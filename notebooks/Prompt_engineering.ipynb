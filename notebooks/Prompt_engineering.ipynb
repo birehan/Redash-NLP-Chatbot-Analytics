{
  "cells": [
    {
      "cell_type": "markdown",
      "metadata": {
        "id": "YfAtR9lJkFSg"
      },
      "source": [
        "### Openai"
      ]
    },
    {
      "cell_type": "markdown",
      "metadata": {
        "id": "PN-nEVgvkFSl"
      },
      "source": [
        "#### Load the API key and relevant Python libaries."
      ]
    },
    {
      "cell_type": "code",
      "execution_count": null,
      "metadata": {
        "id": "sX9B5DcCkFSn"
      },
      "outputs": [],
      "source": [
        "import openai\n",
        "import os\n",
        "import json\n",
        "import requests\n",
        "from pprint import pprint\n",
        "import json\n",
        "import tiktoken\n",
        "import openai\n",
        "import requests\n",
        "from tenacity import retry, wait_random_exponential, stop_after_attempt\n",
        "from termcolor import colored\n",
        "GPT_MODEL = \"gpt-3.5-turbo-0613\""
      ]
    },
    {
      "cell_type": "code",
      "execution_count": null,
      "metadata": {
        "id": "IJshlg94kFSp"
      },
      "outputs": [],
      "source": [
        "from dotenv import load_dotenv, find_dotenv\n",
        "from openai import OpenAI\n",
        "_ = load_dotenv(find_dotenv())\n",
        "openai.api_key  = os.getenv('OPENAI_API_KEY')"
      ]
    },
    {
      "cell_type": "code",
      "execution_count": null,
      "metadata": {
        "id": "0yD4T2wZkFSq"
      },
      "outputs": [],
      "source": [
        "def count_token(input, model_name=GPT_MODEL, debug=False):\n",
        "        encoding = tiktoken.encoding_for_model(model_name)\n",
        "        codex = \" \".join(input.splitlines())  # Join lines into a single string\n",
        "        num_tokens = len(encoding.encode(codex))\n",
        "        return num_tokens\n"
      ]
    },
    {
      "cell_type": "markdown",
      "metadata": {
        "id": "V0-UEO4wkFSr"
      },
      "source": [
        "### Completion Api"
      ]
    },
    {
      "cell_type": "code",
      "execution_count": null,
      "metadata": {
        "id": "0exP82HokFSr"
      },
      "outputs": [],
      "source": [
        "from openai import OpenAI\n",
        "client = OpenAI()\n",
        "\n",
        "response = client.completions.create(\n",
        "  model=\"gpt-3.5-turbo-instruct\",\n",
        "  prompt=\"Write a tagline for an ice cream shop.\"\n",
        ")"
      ]
    },
    {
      "cell_type": "code",
      "execution_count": null,
      "metadata": {
        "id": "71NESwUzkFSs",
        "outputId": "44e9e051-01cb-486a-dc79-1189b62a9586"
      },
      "outputs": [
        {
          "data": {
            "text/plain": [
              "'\\n\\n\"Indulge in happiness, one scoop at a time.\"'"
            ]
          },
          "execution_count": 5,
          "metadata": {},
          "output_type": "execute_result"
        }
      ],
      "source": [
        "response.choices[0].text"
      ]
    },
    {
      "cell_type": "markdown",
      "metadata": {
        "id": "nHtmixIAkFSv"
      },
      "source": [
        "### Chat Completions"
      ]
    },
    {
      "cell_type": "code",
      "execution_count": null,
      "metadata": {
        "id": "vp2GO5EzkFSx",
        "outputId": "3855d0bf-c86f-461b-9ad2-e50a4deb4888"
      },
      "outputs": [
        {
          "name": "stdout",
          "output_type": "stream",
          "text": [
            "ChatCompletionMessage(content='\"Scoop into Pure Happiness!\"', role='assistant', function_call=None, tool_calls=None)\n"
          ]
        }
      ],
      "source": [
        "client = OpenAI()\n",
        "\n",
        "completion = client.chat.completions.create(\n",
        "  model=GPT_MODEL,\n",
        "  messages=[\n",
        "    {\"role\": \"system\", \"content\": \"You are an expert in writing taglines for ice cream shops. you are creative and original.\"},\n",
        "    {\"role\": \"user\", \"content\": \"Write a tagline for an ice cream shop.\"}\n",
        "  ]\n",
        ")\n",
        "\n",
        "print(completion.choices[0].message)"
      ]
    },
    {
      "cell_type": "code",
      "execution_count": null,
      "metadata": {
        "id": "19PTM6xkkFSy",
        "outputId": "ff37fee4-c53e-4faa-bade-450dabd6b39f"
      },
      "outputs": [
        {
          "name": "stdout",
          "output_type": "stream",
          "text": [
            "'\"Scoop into Pure Happiness!\"'\n"
          ]
        }
      ],
      "source": [
        "pprint(completion.choices[0].message.content)"
      ]
    },
    {
      "cell_type": "markdown",
      "metadata": {
        "id": "hliZ1qXwkFSz"
      },
      "source": [
        "### Few shot Prompting"
      ]
    },
    {
      "cell_type": "code",
      "execution_count": null,
      "metadata": {
        "id": "5BqNCNpCkFSz"
      },
      "outputs": [],
      "source": [
        "from openai import OpenAI\n",
        "client = OpenAI()\n",
        "\n",
        "response = client.chat.completions.create(\n",
        "  model=\"gpt-3.5-turbo\",\n",
        "  messages=[\n",
        "    {\"role\": \"system\", \"content\": \"You are a helpful assistant.\"},\n",
        "    {\"role\": \"user\", \"content\": \"Who won the world series in 2020?\"},\n",
        "    {\"role\": \"assistant\", \"content\": \"The Los Angeles Dodgers won the World Series in 2020.\"},\n",
        "    {\"role\": \"user\", \"content\": \"Where was it played?\"}\n",
        "  ]\n",
        ")"
      ]
    },
    {
      "cell_type": "code",
      "execution_count": null,
      "metadata": {
        "id": "ckSa5y-GkFS3",
        "outputId": "e515cbda-b667-4afb-e581-2fc9fbd7499d"
      },
      "outputs": [
        {
          "data": {
            "text/plain": [
              "'The 2020 World Series was played at Globe Life Field in Arlington, Texas.'"
            ]
          },
          "execution_count": 74,
          "metadata": {},
          "output_type": "execute_result"
        }
      ],
      "source": [
        "response.choices[0].message.content"
      ]
    },
    {
      "cell_type": "markdown",
      "metadata": {
        "id": "j_5O3wnikFS3"
      },
      "source": [
        "### delimiter and context"
      ]
    },
    {
      "cell_type": "code",
      "execution_count": null,
      "metadata": {
        "id": "fEZ7C-_ykFS4"
      },
      "outputs": [],
      "source": [
        "articles = \"\"\"List of 2022 Winter Olympics medal winners\n",
        "\n",
        "==Curling==\n",
        "\n",
        "{{main|Curling at the 2022 Winter Olympics}}\n",
        "{|{{MedalistTable|type=Event|columns=1|width=225|labelwidth=200}}\n",
        "|-valign=\"top\"\n",
        "|Men<br/>{{DetailsLink|Curling at the 2022 Winter Olympics – Men's tournament}}\n",
        "|{{flagIOC|SWE|2022 Winter}}<br/>[[Niklas Edin]]<br/>[[Oskar Eriksson]]<br/>[[Rasmus Wranå]]<br/>[[Christoffer Sundgren]]<br/>[[Daniel Magnusson (curler)|Daniel Magnusson]]\n",
        "|{{flagIOC|GBR|2022 Winter}}<br/>[[Bruce Mouat]]<br/>[[Grant Hardie]]<br/>[[Bobby Lammie]]<br/>[[Hammy McMillan Jr.]]<br/>[[Ross Whyte]]\n",
        "|{{flagIOC|CAN|2022 Winter}}<br/>[[Brad Gushue]]<br/>[[Mark Nichols (curler)|Mark Nichols]]<br/>[[Brett Gallant]]<br/>[[Geoff Walker (curler)|Geoff Walker]]<br/>[[Marc Kennedy]]\n",
        "|-valign=\"top\"\n",
        "|Women<br/>{{DetailsLink|Curling at the 2022 Winter Olympics – Women's tournament}}\n",
        "|{{flagIOC|GBR|2022 Winter}}<br/>[[Eve Muirhead]]<br/>[[Vicky Wright]]<br/>[[Jennifer Dodds]]<br/>[[Hailey Duff]]<br/>[[Mili Smith]]\n",
        "|{{flagIOC|JPN|2022 Winter}}<br/>[[Satsuki Fujisawa]]<br/>[[Chinami Yoshida]]<br/>[[Yumi Suzuki]]<br/>[[Yurika Yoshida]]<br/>[[Kotomi Ishizaki]]\n",
        "|{{flagIOC|SWE|2022 Winter}}<br/>[[Anna Hasselborg]]<br/>[[Sara McManus]]<br/>[[Agnes Knochenhauer]]<br/>[[Sofia Mabergs]]<br/>[[Johanna Heldin]]\n",
        "|-valign=\"top\"\n",
        "|Mixed doubles<br/>{{DetailsLink|Curling at the 2022 Winter Olympics – Mixed doubles tournament}}\n",
        "|{{flagIOC|ITA|2022 Winter}}<br/>[[Stefania Constantini]]<br/>[[Amos Mosaner]]\n",
        "|{{flagIOC|NOR|2022 Winter}}<br/>[[Kristin Skaslien]]<br/>[[Magnus Nedregotten]]\n",
        "|{{flagIOC|SWE|2022 Winter}}<br/>[[Almida de Val]]<br/>[[Oskar Eriksson]]\n",
        "|}\n",
        "\n",
        "Curling at the 2022 Winter Olympics\n",
        "\n",
        "==Results summary==\n",
        "\n",
        "===Women's tournament===\n",
        "\n",
        "====Playoffs====\n",
        "\n",
        "=====Gold medal game=====\n",
        "\n",
        "''Sunday, 20 February, 9:05''\n",
        "{{#lst:Curling at the 2022 Winter Olympics – Women's tournament|GM}}\n",
        "{{Player percentages\n",
        "| team1 = {{flagIOC|JPN|2022 Winter}}\n",
        "| [[Yurika Yoshida]] | 97%\n",
        "| [[Yumi Suzuki]] | 82%\n",
        "| [[Chinami Yoshida]] | 64%\n",
        "| [[Satsuki Fujisawa]] | 69%\n",
        "| teampct1 = 78%\n",
        "| team2 = {{flagIOC|GBR|2022 Winter}}\n",
        "| [[Hailey Duff]] | 90%\n",
        "| [[Jennifer Dodds]] | 89%\n",
        "| [[Vicky Wright]] | 89%\n",
        "| [[Eve Muirhead]] | 88%\n",
        "| teampct2 = 89%\n",
        "}}\"\"\"\n"
      ]
    },
    {
      "cell_type": "code",
      "execution_count": null,
      "metadata": {
        "id": "VpWQX_KKkFTI"
      },
      "outputs": [],
      "source": [
        "system_message =f\"\"\"Use the provided articles delimited by xml tags to answer questions. If the answer cannot be found in the articles, write I could not find an answer.\n",
        "articles: < {articles} >\n",
        "\"\"\""
      ]
    },
    {
      "cell_type": "code",
      "execution_count": null,
      "metadata": {
        "id": "IxUEVqXikFTJ",
        "outputId": "9b5b9a72-8fab-4551-f1d3-ad6a6a42a061"
      },
      "outputs": [
        {
          "data": {
            "text/plain": [
              "850"
            ]
          },
          "execution_count": 79,
          "metadata": {},
          "output_type": "execute_result"
        }
      ],
      "source": [
        "count_token(system_message)"
      ]
    },
    {
      "cell_type": "code",
      "execution_count": null,
      "metadata": {
        "id": "HiipUbgMkFTJ"
      },
      "outputs": [],
      "source": [
        "user_message =\"\"\"Question: Who won the gold medal in women's curling at the 2023 Winter Olympics?\"\"\""
      ]
    },
    {
      "cell_type": "code",
      "execution_count": null,
      "metadata": {
        "id": "xmoA3_7VkFTK",
        "outputId": "10111336-c8e5-4c6a-aad2-4c2722a82bfe"
      },
      "outputs": [
        {
          "data": {
            "text/plain": [
              "20"
            ]
          },
          "execution_count": 80,
          "metadata": {},
          "output_type": "execute_result"
        }
      ],
      "source": [
        "count_token(user_message)"
      ]
    },
    {
      "cell_type": "code",
      "execution_count": null,
      "metadata": {
        "id": "k2KBZjkTkFTK"
      },
      "outputs": [],
      "source": [
        "from openai import OpenAI\n",
        "def get_gpt_response(system_message, user_message):\n",
        "    client = OpenAI()\n",
        "    response = client.chat.completions.create(\n",
        "        model=\"gpt-3.5-turbo\",\n",
        "        messages=[\n",
        "            {\n",
        "                \"role\": \"system\",\n",
        "                \"content\": system_message\n",
        "            },\n",
        "            {\n",
        "                \"role\": \"user\",\n",
        "                \"content\": user_message\n",
        "            }\n",
        "        ],\n",
        "        temperature=0,\n",
        "        max_tokens=1024,\n",
        "        top_p=1,\n",
        "        frequency_penalty=0,\n",
        "        presence_penalty=0\n",
        "    )\n",
        "\n",
        "    return response.choices[0].message.content\n"
      ]
    },
    {
      "cell_type": "code",
      "execution_count": null,
      "metadata": {
        "id": "_NEPJN1qkFTK"
      },
      "outputs": [],
      "source": [
        "response = get_gpt_response(system_message, user_message)"
      ]
    },
    {
      "cell_type": "code",
      "execution_count": null,
      "metadata": {
        "id": "J63a7Lk6kFTL",
        "outputId": "d2b233a2-c93f-4bd9-bd97-63b70d36af11"
      },
      "outputs": [
        {
          "data": {
            "text/plain": [
              "'I could not find an answer.'"
            ]
          },
          "execution_count": 85,
          "metadata": {},
          "output_type": "execute_result"
        }
      ],
      "source": [
        "response"
      ]
    }
  ],
  "metadata": {
    "kernelspec": {
      "display_name": "tutorial",
      "language": "python",
      "name": "python3"
    },
    "language_info": {
      "codemirror_mode": {
        "name": "ipython",
        "version": 3
      },
      "file_extension": ".py",
      "mimetype": "text/x-python",
      "name": "python",
      "nbconvert_exporter": "python",
      "pygments_lexer": "ipython3",
      "version": "3.11.5"
    },
    "orig_nbformat": 4,
    "colab": {
      "provenance": []
    }
  },
  "nbformat": 4,
  "nbformat_minor": 0
}