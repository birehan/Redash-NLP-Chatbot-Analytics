{
 "cells": [
  {
   "cell_type": "code",
   "execution_count": 35,
   "metadata": {},
   "outputs": [],
   "source": [
    "from openai import OpenAI\n",
    "from dotenv import load_dotenv\n",
    "import os\n",
    "import langchain\n",
    "from langchain.chat_models import ChatOpenAI\n",
    "from langchain.agents import tool\n",
    "from typing import Optional\n",
    "from pydantic import BaseModel, Field\n",
    "from langchain.tools.render import format_tool_to_openai_function\n",
    "\n"
   ]
  },
  {
   "cell_type": "code",
   "execution_count": 36,
   "metadata": {},
   "outputs": [
    {
     "data": {
      "text/plain": [
       "'0.0.354'"
      ]
     },
     "execution_count": 36,
     "metadata": {},
     "output_type": "execute_result"
    }
   ],
   "source": [
    "langchain.__version__"
   ]
  },
  {
   "cell_type": "code",
   "execution_count": 37,
   "metadata": {},
   "outputs": [],
   "source": [
    "\n",
    "# Load environment variables from .env file\n",
    "load_dotenv()\n",
    "\n",
    "# Get the OpenAI API key from the environment\n",
    "api_key = os.getenv(\"OPENAI_API_KEY\")\n",
    "# Check if the API key is available\n",
    "if not api_key:\n",
    "    raise ValueError(\"API key is not set. Make sure it is available in your .env file.\")"
   ]
  },
  {
   "cell_type": "code",
   "execution_count": 38,
   "metadata": {},
   "outputs": [
    {
     "name": "stdout",
     "output_type": "stream",
     "text": [
      "ChatCompletion(id='chatcmpl-8dMw0B2C9IQP6xzpbQ6uARKGRvX0z', choices=[Choice(finish_reason='stop', index=0, logprobs=None, message=ChatCompletionMessage(content='The 2020 World Series was played at Globe Life Field in Arlington, Texas. This was a unique situation due to the COVID-19 pandemic, as the entire series was played at a neutral site to minimize travel and potential virus spread. Globe Life Field is the home of the Texas Rangers.', role='assistant', function_call=None, tool_calls=None))], created=1704393644, model='gpt-4-1106-preview', object='chat.completion', system_fingerprint='fp_168383a679', usage=CompletionUsage(completion_tokens=59, prompt_tokens=53, total_tokens=112))\n"
     ]
    }
   ],
   "source": [
    "client = OpenAI(api_key=api_key)\n",
    "\n",
    "# Rest of your script remains unchanged\n",
    "response = client.chat.completions.create(\n",
    "    model=\"gpt-4-1106-preview\",\n",
    "    messages=[\n",
    "        {\"role\": \"system\", \"content\": \"You are a helpful assistant.\"},\n",
    "        {\"role\": \"user\", \"content\": \"Who won the world series in 2020?\"},\n",
    "        {\"role\": \"assistant\", \"content\": \"The Los Angeles Dodgers won the World Series in 2020.\"},\n",
    "        {\"role\": \"user\", \"content\": \"Where was it played?\"}\n",
    "    ]\n",
    ")\n",
    "print(response)\n"
   ]
  },
  {
   "cell_type": "markdown",
   "metadata": {},
   "source": [
    "## Defining Tools"
   ]
  },
  {
   "cell_type": "code",
   "execution_count": 39,
   "metadata": {},
   "outputs": [
    {
     "name": "stdout",
     "output_type": "stream",
     "text": [
      "[('Total', None, None, None, 26625, 2157.3497, '0:04:51'), ('0x164b85cef5ab402d:0x8467b6b037a24d49', 'Addis Ababa', 'ET', 'ET-AA', 1252, 127.5042, '0:06:06'), ('0x487a4d4c5226f5db:0xd9be143804fe6baa', 'Manchester', 'GB', 'GB-ENG', 23, 0.0402, '0:00:06'), ('0x3568eb6de823cd35:0x35d8cb74247108a7', 'Busan', 'KR', 'KR-26', 14, 0.0354, '0:00:09'), ('0x168e8fde9837cabf:0x191f55de7e67db40', 'Khartoum', 'SD', 'SD-KH', 12, 1.2627, '0:06:18'), ('0x3397ba0942ef7375:0x4a9a32d9fe083d40', 'Quezon City', 'PH', 'PH-00', 11, 0.0615, '0:00:20'), ('0x3ae253d10f7a7003:0x320b2e4d32d3838d', 'Colombo', 'LK', 'LK-1', 11, 0.0363, '0:00:11'), ('0x102354e509f894f7:0xc8fde921f89849f6', 'Cotonou', 'BJ', 'BJ-LI', 10, 1.1665, '0:06:59'), ('0x399bfd991f32b16b:0x93ccba8909978be7', 'Lucknow', 'IN', 'IN-UP', 10, 0.029, '0:00:10')]\n",
      "(Column(name='Cities', type_code=25), Column(name='City name', type_code=25), Column(name='Geography', type_code=25), Column(name='Geography.1', type_code=25), Column(name='Views', type_code=20), Column(name='Watch time (hours)', type_code=701), Column(name='Average view duration', type_code=25))\n"
     ]
    }
   ],
   "source": [
    "import psycopg2\n",
    "import pandas as pd\n",
    "\n",
    "\n",
    "connection_params = {\n",
    "  \"user\": \"postgres\",\n",
    "  \"password\": \"password\",\n",
    "  \"database\": \"youtube_db\",\n",
    "  \"host\": \"localhost\",\n",
    "  \"port\": \"5432\"\n",
    "}\n",
    "\n",
    "\n",
    "def get_postgres_data(query:str):\n",
    "    # Establish a connection to the PostgreSQL database\n",
    "    conn = psycopg2.connect(**connection_params)\n",
    "\n",
    "    # Create a cursor object to execute queries\n",
    "    cursor = conn.cursor()\n",
    "\n",
    "    try:\n",
    "        # Execute the SQL query\n",
    "        cursor.execute(query)\n",
    "\n",
    "        # Fetch all the results\n",
    "        results = cursor.fetchall()\n",
    "\n",
    "        # Get the cursor description\n",
    "        description = cursor.description\n",
    "\n",
    "        # Return both results and cursor description\n",
    "        return results, description\n",
    "\n",
    "    finally:\n",
    "        cursor.close()\n",
    "        conn.close()\n",
    "\n",
    "def get_postgres_df(query, connection_params=connection_params):\n",
    "    # Execute the query and get the results along with the cursor description\n",
    "    results, description = get_postgres_data(query)\n",
    "    print(results)\n",
    "    print(description)\n",
    "\n",
    "    # Get the column names from the cursor description\n",
    "    columns = [desc[0] for desc in description]\n",
    "\n",
    "    # Create a DataFrame from the results\n",
    "    df = pd.DataFrame(results, columns=columns)\n",
    "\n",
    "    return df\n",
    "\n",
    "# Example usage:\n",
    "postgres_query = \"SELECT * FROM cities_table_data\"\n",
    "postgres_df = get_postgres_df(postgres_query)\n",
    "# print(postgres_df)\n"
   ]
  },
  {
   "cell_type": "code",
   "execution_count": 40,
   "metadata": {},
   "outputs": [],
   "source": [
    "from typing import List, Tuple\n",
    "\n",
    "\n",
    "class SQLQuery(BaseModel):\n",
    "    query: str = Field(description=\"SQL query to execute\")\n",
    "\n",
    "@tool\n",
    "def execute_sql(query: str) -> Tuple[List[Tuple], List[Tuple]]:\n",
    "    \"\"\"Returns the result of SQL query execution and cursor description\"\"\"\n",
    "    return get_postgres_data(query)"
   ]
  },
  {
   "cell_type": "code",
   "execution_count": 41,
   "metadata": {},
   "outputs": [
    {
     "data": {
      "text/plain": [
       "([('Computer', 19267, 1709.2645, '0:05:19')],\n",
       " (Column(name='Device type', type_code=25),\n",
       "  Column(name='Views', type_code=20),\n",
       "  Column(name='Watch time (hours)', type_code=701),\n",
       "  Column(name='Average view duration', type_code=25)))"
      ]
     },
     "execution_count": 41,
     "metadata": {},
     "output_type": "execute_result"
    }
   ],
   "source": [
    "execute_sql('SELECT * FROM device_type_table_data WHERE \"Average view duration\" = \\'0:05:19\\'')"
   ]
  },
  {
   "cell_type": "code",
   "execution_count": 42,
   "metadata": {},
   "outputs": [],
   "source": [
    "class SQLTable(BaseModel):\n",
    "    table: str = Field(description=\"Table name\")\n",
    "\n",
    "@tool\n",
    "def get_table_columns(table:str) -> str:\n",
    "    \"\"\"Returns a list of table column names and types in JSON\"\"\"\n",
    "    \n",
    "    query = f'''\n",
    "   SELECT column_name, data_type\n",
    "    FROM information_schema.columns\n",
    "    WHERE table_name = '{table}';\n",
    "    '''\n",
    "        \n",
    "    result_df = get_postgres_df(query)\n",
    "    \n",
    "    # Convert the result DataFrame to a list of dictionaries\n",
    "    result_list = result_df.to_dict('records')\n",
    "    \n",
    "    # Convert the list to a JSON-formatted string\n",
    "    return str(result_list)"
   ]
  },
  {
   "cell_type": "code",
   "execution_count": 43,
   "metadata": {},
   "outputs": [
    {
     "name": "stdout",
     "output_type": "stream",
     "text": [
      "[('Cities', 'text'), ('City name', 'text'), ('Geography', 'text'), ('Geography.1', 'text'), ('Views', 'bigint'), ('Watch time (hours)', 'double precision'), ('Average view duration', 'text')]\n",
      "(Column(name='column_name', type_code=1043), Column(name='data_type', type_code=1043))\n"
     ]
    },
    {
     "data": {
      "text/plain": [
       "\"[{'column_name': 'Cities', 'data_type': 'text'}, {'column_name': 'City name', 'data_type': 'text'}, {'column_name': 'Geography', 'data_type': 'text'}, {'column_name': 'Geography.1', 'data_type': 'text'}, {'column_name': 'Views', 'data_type': 'bigint'}, {'column_name': 'Watch time (hours)', 'data_type': 'double precision'}, {'column_name': 'Average view duration', 'data_type': 'text'}]\""
      ]
     },
     "execution_count": 43,
     "metadata": {},
     "output_type": "execute_result"
    }
   ],
   "source": [
    "get_table_columns({'table': 'cities_table_data'})"
   ]
  },
  {
   "cell_type": "code",
   "execution_count": 44,
   "metadata": {},
   "outputs": [],
   "source": [
    "class SQLTableColumn(BaseModel):\n",
    "    database: str = Field(description=\"Database name\")\n",
    "    table: str = Field(description=\"Table name\")\n",
    "    column: str = Field(description=\"Column name\")\n",
    "    n: Optional[int] = Field(description=\"Number of rows, default limit 10\")\n",
    "\n",
    "@tool\n",
    "def get_table_column_distr(database: str, table: str, column: str, n:int = 10) -> str:\n",
    "    \"\"\"Returns top n values for the column in JSON\"\"\"\n",
    "    print(column)\n",
    "    q = f'''\n",
    "\n",
    "     SELECT \"{column}\", COUNT(1) AS count\n",
    "    FROM {table}\n",
    "    GROUP BY 1\n",
    "    ORDER BY 2 DESC\n",
    "    LIMIT {n};\n",
    "   \n",
    "    '''\n",
    "    \n",
    "    return str(list(get_postgres_df(q)[column].values))"
   ]
  },
  {
   "cell_type": "code",
   "execution_count": 45,
   "metadata": {},
   "outputs": [
    {
     "name": "stdout",
     "output_type": "stream",
     "text": [
      "Cities\n",
      "[('0x399bfd991f32b16b:0x93ccba8909978be7', 1), ('Total', 1), ('0x164b85cef5ab402d:0x8467b6b037a24d49', 1), ('0x102354e509f894f7:0xc8fde921f89849f6', 1), ('0x3397ba0942ef7375:0x4a9a32d9fe083d40', 1), ('0x3568eb6de823cd35:0x35d8cb74247108a7', 1), ('0x3ae253d10f7a7003:0x320b2e4d32d3838d', 1), ('0x487a4d4c5226f5db:0xd9be143804fe6baa', 1), ('0x168e8fde9837cabf:0x191f55de7e67db40', 1)]\n",
      "(Column(name='Cities', type_code=25), Column(name='count', type_code=20))\n"
     ]
    },
    {
     "data": {
      "text/plain": [
       "\"['0x399bfd991f32b16b:0x93ccba8909978be7', 'Total', '0x164b85cef5ab402d:0x8467b6b037a24d49', '0x102354e509f894f7:0xc8fde921f89849f6', '0x3397ba0942ef7375:0x4a9a32d9fe083d40', '0x3568eb6de823cd35:0x35d8cb74247108a7', '0x3ae253d10f7a7003:0x320b2e4d32d3838d', '0x487a4d4c5226f5db:0xd9be143804fe6baa', '0x168e8fde9837cabf:0x191f55de7e67db40']\""
      ]
     },
     "execution_count": 45,
     "metadata": {},
     "output_type": "execute_result"
    }
   ],
   "source": [
    "get_table_column_distr({'database': 'youtube_db', 'table': 'cities_table_data', 'column': 'Cities'})"
   ]
  },
  {
   "cell_type": "code",
   "execution_count": 46,
   "metadata": {},
   "outputs": [],
   "source": [
    "sql_functions = list(map(format_tool_to_openai_function, [execute_sql, get_table_columns, get_table_column_distr]))"
   ]
  },
  {
   "cell_type": "code",
   "execution_count": 47,
   "metadata": {},
   "outputs": [],
   "source": [
    "sql_tools = {\n",
    "    'execute_sql': execute_sql,\n",
    "    'get_table_columns': get_table_columns,\n",
    "    'get_table_column_distr': get_table_column_distr\n",
    "}"
   ]
  },
  {
   "cell_type": "markdown",
   "metadata": {},
   "source": [
    "### OpenAI Functions Agent"
   ]
  },
  {
   "cell_type": "code",
   "execution_count": 48,
   "metadata": {},
   "outputs": [],
   "source": [
    "from langchain.prompts import ChatPromptTemplate, MessagesPlaceholder\n",
    "from langchain.agents.format_scratchpad import format_to_openai_function_messages\n",
    "from langchain.agents.output_parsers import OpenAIFunctionsAgentOutputParser"
   ]
  },
  {
   "cell_type": "code",
   "execution_count": 49,
   "metadata": {},
   "outputs": [],
   "source": [
    "llm = ChatOpenAI(temperature=0.1, model = 'gpt-4-1106-preview')\\\n",
    "  .bind(functions = sql_functions)"
   ]
  },
  {
   "cell_type": "code",
   "execution_count": 50,
   "metadata": {},
   "outputs": [],
   "source": [
    "system_message = '''\n",
    "You are working as a data analyst for the 10 Academy YouTube channel. Your role is crucial, as the insights you provide guide the decision-making process for the content and strategy team. Accuracy in data reporting is paramount, and if there is uncertainty about a request, you seek clarification before providing an answer.\n",
    "\n",
    "The data for analysis is stored in a SQL database, and the relevant tables along with their descriptions and columns are as follows:\n",
    "when generating sql query, put the column name under double quotation\n",
    "- device_type_chart_data: Information about the views on different devices. Columns: \"Date\" (TEXT), \"Device type\" (TEXT), \"Views\" (INTEGER)\n",
    "\n",
    "- device_type_table_data: Detailed data on device types, including watch time and average view duration. Columns: \"Device type\" (TEXT), \"Views\" (INTEGER), \"Watch time (hours)\" (DOUBLE PRECISION), \"Average view duration\" (TEXT)\n",
    "\n",
    "- subscription_source_chart_data: Data on subscribers based on subscription sources. Columns: \"Date\" (TEXT), \"Subscription source\" (TEXT), \"Subscribers\" (INTEGER)\n",
    "\n",
    "- subscription_source_table_data: Detailed information on subscription sources, including subscribers gained and lost. Columns: \"Subscription source\" (TEXT), \"Subscribers\" (INTEGER), \"Subscribers gained\" (INTEGER), \"Subscribers lost\" (INTEGER)\n",
    "\n",
    "- viewership_by_date_table_data: Overview of views, watch time, and average view duration by date. Columns: \"Date\" (TEXT), \"Views\" (DOUBLE PRECISION), \"Watch time (hours)\" (DOUBLE PRECISION), \"Average view duration\" (TEXT)\n",
    "\n",
    "- viewer_gender_table_data: Data on viewer gender, including views percentage and watch time distribution. Columns: \"Viewer gender\" (TEXT), \"Views (%)\" (DOUBLE PRECISION), \"Average view duration\" (TEXT), \"Average percentage viewed (%)\" (DOUBLE PRECISION), \"Watch time (hours) (%)\" (DOUBLE PRECISION)\n",
    "\n",
    "- traffic_source_chart_data: Information about views from different traffic sources. Columns: \"Date\" (TEXT), \"Traffic source\" (TEXT), \"Views\" (INTEGER)\n",
    "\n",
    "- traffic_source_table_data: Detailed data on traffic sources, including watch time, average view duration, impressions, and click-through rate. Columns: \"Traffic source\" (TEXT), \"Views\" (DOUBLE PRECISION), \"Watch time (hours)\" (DOUBLE PRECISION), \"Average view duration\" (TEXT), \"Impressions\" (DOUBLE PRECISION), \"Impressions click-through rate (%)\" (DOUBLE PRECISION)\n",
    "\n",
    "- subtitles_and_cc_chart_data: Analysis of views based on the presence of subtitles and closed captions. Columns: \"Date\" (TEXT), \"Subtitles and CC\" (TEXT), \"Views\" (INTEGER)\n",
    "\n",
    "- subtitles_and_cc_table_data: Detailed data on subtitles and closed captions, including watch time and average view duration. Columns: \"Subtitles and CC\" (TEXT), \"Views\" (INTEGER), \"Watch time (hours)\" (DOUBLE PRECISION), \"Average view duration\" (TEXT)\n",
    "\n",
    "- new_and_returning_viewers_chart_data: Data on new and returning viewers and their respective views. Columns: \"Date\" (TEXT), \"New and returning viewers\" (TEXT), \"Views\" (INTEGER)\n",
    "\n",
    "- new_and_returning_viewers_table_data: Detailed information on new and returning viewers, including watch time and average view duration. Columns: \"New and returning viewers\" (TEXT), \"Views\" (INTEGER), \"Watch time (hours)\" (DOUBLE PRECISION), \"Average view duration\" (TEXT)\n",
    "\n",
    "- operating_system_chart_data: Analysis of views based on different operating systems. Columns: \"Date\" (TEXT), \"Operating system\" (TEXT), \"Views\" (INTEGER)\n",
    "\n",
    "- operating_system_table_data: Detailed data on operating systems, including watch time and average view duration. Columns: \"Operating system\" (TEXT), \"Views\" (INTEGER), \"Watch time (hours)\" (DOUBLE PRECISION), \"Average view duration\" (TEXT)\n",
    "\n",
    "- cities_chart_data: Information about views based on different cities. Columns: \"Date\" (TEXT), \"Cities\" (TEXT), \"City name\" (TEXT), \"Views\" (INTEGER)\n",
    "\n",
    "- cities_table_data: Detailed data on cities, including geography, views, watch time, and average view duration. Columns: \"Cities\" (TEXT), \"City name\" (TEXT), \"Geography\" (TEXT), \"Geography.1\" (TEXT), \"Views\" (INTEGER), \"Watch time (hours)\" (DOUBLE PRECISION), \"Average view duration\" (TEXT)\n",
    "\n",
    "- viewer_age_table_data: Data on viewer age, including views percentage and watch time distribution. Columns: \"Viewer age\" (TEXT), \"Views (%)\" (DOUBLE PRECISION), \"Average view duration\" (TEXT), \"Average percentage viewed (%)\" (DOUBLE PRECISION), \"Watch time (hours) (%)\" (DOUBLE PRECISION)\n",
    "\n",
    "- subscription_status_chart_data: Analysis of views based on subscription status. Columns: \"Date\" (TEXT), \"Subscription status\" (TEXT), \"Views\" (INTEGER)\n",
    "\n",
    "- subscription_status_table_data: Detailed data on subscription status, including views, watch time, and average view duration. Columns: \"Subscription status\" (TEXT), \"Views\" (INTEGER), \"Watch time (hours)\" (DOUBLE PRECISION), \"Average view duration\" (TEXT)\n",
    "\n",
    "- geography_chart_data: Overview of views based on different geographic locations. Columns: \"Date\" (TEXT), \"Geography\" (TEXT), \"Views\" (INTEGER)\n",
    "\n",
    "- geography_table_data: Detailed data on geography, including views, watch time, and average view duration. Columns: \"Geography\" (TEXT), \"Views\" (INTEGER), \"Watch time (hours)\" (DOUBLE PRECISION), \"Average view duration\" (TEXT)\n",
    "\n",
    "- sharing_service_chart_data: Information about shares on different sharing services. Columns: \"Date\" (TEXT), \"Sharing service\" (TEXT), \"Shares\" (INTEGER)\n",
    "\n",
    "- sharing_service_table_data: Detailed data on sharing services, including the number of shares. Columns: \"Sharing service\" (TEXT), \"Shares\" (INTEGER)\n",
    "\n",
    "- content_type_chart_data: Analysis of views based on different content types. Columns: \"Date\" (TEXT), \"Content type\" (TEXT), \"Views\" (INTEGER)\n",
    "\n",
    "- content_type_table_data: Detailed data on content types, including views, watch time, and average view duration. Columns: \"Content type\" (TEXT), \"Views\" (INTEGER), \"Watch time (hours)\" (DOUBLE PRECISION), \"Average view duration\" (TEXT)\n",
    "\n",
    "- totals_table_data: Overall summary of views, subscribers, and shares by date. Columns: \"Date\" (TEXT), \"Views\" (DOUBLE PRECISION), \"Subscribers\" (DOUBLE PRECISION), \"Shares\" (DOUBLE PRECISION)\n",
    "\n",
    "'''\n",
    "\n",
    "analyst_prompt = ChatPromptTemplate.from_messages(\n",
    "    [\n",
    "        (\"system\", system_message),\n",
    "        (\"user\", \"{question}\"),\n",
    "        MessagesPlaceholder(variable_name=\"agent_scratchpad\"),\n",
    "    ]\n",
    ")"
   ]
  },
  {
   "cell_type": "code",
   "execution_count": 52,
   "metadata": {},
   "outputs": [],
   "source": [
    "analyst_agent = (\n",
    "    {\n",
    "        \"question\": lambda x: x[\"question\"],\n",
    "        \"agent_scratchpad\": lambda x: format_to_openai_function_messages(x[\"intermediate_steps\"]),\n",
    "    }\n",
    "    | analyst_prompt\n",
    "    | llm\n",
    "    | OpenAIFunctionsAgentOutputParser()\n",
    ")"
   ]
  },
  {
   "cell_type": "code",
   "execution_count": 53,
   "metadata": {},
   "outputs": [
    {
     "data": {
      "text/plain": [
       "AgentActionMessageLog(tool='get_table_columns', tool_input={'table': 'device_type_table_data'}, log=\"\\nInvoking: `get_table_columns` with `{'table': 'device_type_table_data'}`\\n\\n\\n\", message_log=[AIMessage(content='', additional_kwargs={'function_call': {'arguments': '{\"table\":\"device_type_table_data\"}', 'name': 'get_table_columns'}})])"
      ]
     },
     "execution_count": 53,
     "metadata": {},
     "output_type": "execute_result"
    }
   ],
   "source": [
    "analyst_agent.invoke({\"question\": \"which device have the highest Average view duration\", \"intermediate_steps\": []})"
   ]
  },
  {
   "cell_type": "code",
   "execution_count": 54,
   "metadata": {},
   "outputs": [
    {
     "name": "stdout",
     "output_type": "stream",
     "text": [
      "Executing tool: get_table_columns, arguments: {'table': 'device_type_table_data'}\n",
      "[('Device type', 'text'), ('Views', 'bigint'), ('Watch time (hours)', 'double precision'), ('Average view duration', 'text')]\n",
      "(Column(name='column_name', type_code=1043), Column(name='data_type', type_code=1043))\n",
      "Observation: [{'column_name': 'Device type', 'data_type': 'text'}, {'column_name': 'Views', 'data_type': 'bigint'}, {'column_name': 'Watch time (hours)', 'data_type': 'double precision'}, {'column_name': 'Average view duration', 'data_type': 'text'}]\n",
      "\n",
      "Executing tool: execute_sql, arguments: {'query': 'SELECT \"Device type\", MAX(\"Average view duration\") AS \"Max Average View Duration\" FROM device_type_table_data GROUP BY \"Device type\" ORDER BY \"Max Average View Duration\" DESC LIMIT 1'}\n",
      "Observation: ([('Computer', '0:05:19')], (Column(name='Device type', type_code=25), Column(name='Max Average View Duration', type_code=25)))\n",
      "\n",
      "Model output: The device with the highest average view duration is \"Computer\" with an average view duration of 0 hours, 5 minutes, and 19 seconds.\n"
     ]
    }
   ],
   "source": [
    "from langchain_core.agents import AgentFinish\n",
    "\n",
    "question = \"which device have the highest Average view duration?\", \"intermediate_steps\"\n",
    "intermediate_steps = []\n",
    "num_iters = 0\n",
    "\n",
    "while True:\n",
    "    if num_iters >= 10:  \n",
    "        break\n",
    "\n",
    "    output = analyst_agent.invoke(\n",
    "        {\n",
    "            \"question\": question,\n",
    "            \"intermediate_steps\": intermediate_steps,\n",
    "        }\n",
    "    )\n",
    "    num_iters += 1\n",
    "\n",
    "    if isinstance(output, AgentFinish):\n",
    "        model_output = output.return_values[\"output\"]\n",
    "        break\n",
    "    else:\n",
    "        print(f'Executing tool: {output.tool}, arguments: {output.tool_input}')\n",
    "        observation = sql_tools[output.tool](output.tool_input)\n",
    "        print(f'Observation: {observation}')\n",
    "        print()\n",
    "        intermediate_steps.append((output, observation))\n",
    "        \n",
    "print('Model output:', model_output)"
   ]
  },
  {
   "cell_type": "code",
   "execution_count": 55,
   "metadata": {},
   "outputs": [
    {
     "name": "stdout",
     "output_type": "stream",
     "text": [
      "\n",
      "\n",
      "\u001b[1m> Entering new AgentExecutor chain...\u001b[0m\n",
      "\u001b[32;1m\u001b[1;3m\n",
      "Invoking: `get_table_columns` with `{'table': 'device_type_table_data'}`\n",
      "\n",
      "\n",
      "\u001b[0m[('Device type', 'text'), ('Views', 'bigint'), ('Watch time (hours)', 'double precision'), ('Average view duration', 'text')]\n",
      "(Column(name='column_name', type_code=1043), Column(name='data_type', type_code=1043))\n",
      "\u001b[33;1m\u001b[1;3m[{'column_name': 'Device type', 'data_type': 'text'}, {'column_name': 'Views', 'data_type': 'bigint'}, {'column_name': 'Watch time (hours)', 'data_type': 'double precision'}, {'column_name': 'Average view duration', 'data_type': 'text'}]\u001b[0m\u001b[32;1m\u001b[1;3m\n",
      "Invoking: `execute_sql` with `{'query': 'SELECT \"Device type\", MAX(\"Average view duration\") AS \"Max Average View Duration\" FROM device_type_table_data'}`\n",
      "\n",
      "\n",
      "\u001b[0m"
     ]
    },
    {
     "ename": "GroupingError",
     "evalue": "column \"device_type_table_data.Device type\" must appear in the GROUP BY clause or be used in an aggregate function\nLINE 1: SELECT \"Device type\", MAX(\"Average view duration\") AS \"Max A...\n               ^\n",
     "output_type": "error",
     "traceback": [
      "\u001b[0;31m---------------------------------------------------------------------------\u001b[0m",
      "\u001b[0;31mGroupingError\u001b[0m                             Traceback (most recent call last)",
      "Input \u001b[0;32mIn [55]\u001b[0m, in \u001b[0;36m<cell line: 12>\u001b[0;34m()\u001b[0m\n\u001b[1;32m      1\u001b[0m \u001b[38;5;28;01mfrom\u001b[39;00m \u001b[38;5;21;01mlangchain\u001b[39;00m\u001b[38;5;21;01m.\u001b[39;00m\u001b[38;5;21;01magents\u001b[39;00m \u001b[38;5;28;01mimport\u001b[39;00m AgentExecutor\n\u001b[1;32m      3\u001b[0m analyst_agent_executor \u001b[38;5;241m=\u001b[39m AgentExecutor(\n\u001b[1;32m      4\u001b[0m     agent\u001b[38;5;241m=\u001b[39manalyst_agent, \n\u001b[1;32m      5\u001b[0m     tools\u001b[38;5;241m=\u001b[39m[execute_sql, get_table_columns, get_table_column_distr], \n\u001b[0;32m   (...)\u001b[0m\n\u001b[1;32m      9\u001b[0m     \u001b[38;5;66;03m# to ask model to generate the final answer after stopping\u001b[39;00m\n\u001b[1;32m     10\u001b[0m )\n\u001b[0;32m---> 12\u001b[0m response \u001b[38;5;241m=\u001b[39m \u001b[43manalyst_agent_executor\u001b[49m\u001b[38;5;241;43m.\u001b[39;49m\u001b[43minvoke\u001b[49m\u001b[43m(\u001b[49m\n\u001b[1;32m     13\u001b[0m \u001b[43m  \u001b[49m\u001b[43m{\u001b[49m\u001b[38;5;124;43m\"\u001b[39;49m\u001b[38;5;124;43mquestion\u001b[39;49m\u001b[38;5;124;43m\"\u001b[39;49m\u001b[43m:\u001b[49m\u001b[43m \u001b[49m\u001b[38;5;124;43m\"\u001b[39;49m\u001b[38;5;124;43mwhat is the Device type having the highest Average view duration?\u001b[39;49m\u001b[38;5;124;43m\"\u001b[39;49m\u001b[43m}\u001b[49m\n\u001b[1;32m     14\u001b[0m \u001b[43m)\u001b[49m\n",
      "File \u001b[0;32m~/anaconda3/envs/tenx_week3/lib/python3.8/site-packages/langchain/chains/base.py:93\u001b[0m, in \u001b[0;36mChain.invoke\u001b[0;34m(self, input, config, **kwargs)\u001b[0m\n\u001b[1;32m     86\u001b[0m \u001b[38;5;28;01mdef\u001b[39;00m \u001b[38;5;21minvoke\u001b[39m(\n\u001b[1;32m     87\u001b[0m     \u001b[38;5;28mself\u001b[39m,\n\u001b[1;32m     88\u001b[0m     \u001b[38;5;28minput\u001b[39m: Dict[\u001b[38;5;28mstr\u001b[39m, Any],\n\u001b[1;32m     89\u001b[0m     config: Optional[RunnableConfig] \u001b[38;5;241m=\u001b[39m \u001b[38;5;28;01mNone\u001b[39;00m,\n\u001b[1;32m     90\u001b[0m     \u001b[38;5;241m*\u001b[39m\u001b[38;5;241m*\u001b[39mkwargs: Any,\n\u001b[1;32m     91\u001b[0m ) \u001b[38;5;241m-\u001b[39m\u001b[38;5;241m>\u001b[39m Dict[\u001b[38;5;28mstr\u001b[39m, Any]:\n\u001b[1;32m     92\u001b[0m     config \u001b[38;5;241m=\u001b[39m ensure_config(config)\n\u001b[0;32m---> 93\u001b[0m     \u001b[38;5;28;01mreturn\u001b[39;00m \u001b[38;5;28;43mself\u001b[39;49m\u001b[43m(\u001b[49m\n\u001b[1;32m     94\u001b[0m \u001b[43m        \u001b[49m\u001b[38;5;28;43minput\u001b[39;49m\u001b[43m,\u001b[49m\n\u001b[1;32m     95\u001b[0m \u001b[43m        \u001b[49m\u001b[43mcallbacks\u001b[49m\u001b[38;5;241;43m=\u001b[39;49m\u001b[43mconfig\u001b[49m\u001b[38;5;241;43m.\u001b[39;49m\u001b[43mget\u001b[49m\u001b[43m(\u001b[49m\u001b[38;5;124;43m\"\u001b[39;49m\u001b[38;5;124;43mcallbacks\u001b[39;49m\u001b[38;5;124;43m\"\u001b[39;49m\u001b[43m)\u001b[49m\u001b[43m,\u001b[49m\n\u001b[1;32m     96\u001b[0m \u001b[43m        \u001b[49m\u001b[43mtags\u001b[49m\u001b[38;5;241;43m=\u001b[39;49m\u001b[43mconfig\u001b[49m\u001b[38;5;241;43m.\u001b[39;49m\u001b[43mget\u001b[49m\u001b[43m(\u001b[49m\u001b[38;5;124;43m\"\u001b[39;49m\u001b[38;5;124;43mtags\u001b[39;49m\u001b[38;5;124;43m\"\u001b[39;49m\u001b[43m)\u001b[49m\u001b[43m,\u001b[49m\n\u001b[1;32m     97\u001b[0m \u001b[43m        \u001b[49m\u001b[43mmetadata\u001b[49m\u001b[38;5;241;43m=\u001b[39;49m\u001b[43mconfig\u001b[49m\u001b[38;5;241;43m.\u001b[39;49m\u001b[43mget\u001b[49m\u001b[43m(\u001b[49m\u001b[38;5;124;43m\"\u001b[39;49m\u001b[38;5;124;43mmetadata\u001b[39;49m\u001b[38;5;124;43m\"\u001b[39;49m\u001b[43m)\u001b[49m\u001b[43m,\u001b[49m\n\u001b[1;32m     98\u001b[0m \u001b[43m        \u001b[49m\u001b[43mrun_name\u001b[49m\u001b[38;5;241;43m=\u001b[39;49m\u001b[43mconfig\u001b[49m\u001b[38;5;241;43m.\u001b[39;49m\u001b[43mget\u001b[49m\u001b[43m(\u001b[49m\u001b[38;5;124;43m\"\u001b[39;49m\u001b[38;5;124;43mrun_name\u001b[39;49m\u001b[38;5;124;43m\"\u001b[39;49m\u001b[43m)\u001b[49m\u001b[43m,\u001b[49m\n\u001b[1;32m     99\u001b[0m \u001b[43m        \u001b[49m\u001b[38;5;241;43m*\u001b[39;49m\u001b[38;5;241;43m*\u001b[39;49m\u001b[43mkwargs\u001b[49m\u001b[43m,\u001b[49m\n\u001b[1;32m    100\u001b[0m \u001b[43m    \u001b[49m\u001b[43m)\u001b[49m\n",
      "File \u001b[0;32m~/anaconda3/envs/tenx_week3/lib/python3.8/site-packages/langchain/chains/base.py:316\u001b[0m, in \u001b[0;36mChain.__call__\u001b[0;34m(self, inputs, return_only_outputs, callbacks, tags, metadata, run_name, include_run_info)\u001b[0m\n\u001b[1;32m    314\u001b[0m \u001b[38;5;28;01mexcept\u001b[39;00m \u001b[38;5;167;01mBaseException\u001b[39;00m \u001b[38;5;28;01mas\u001b[39;00m e:\n\u001b[1;32m    315\u001b[0m     run_manager\u001b[38;5;241m.\u001b[39mon_chain_error(e)\n\u001b[0;32m--> 316\u001b[0m     \u001b[38;5;28;01mraise\u001b[39;00m e\n\u001b[1;32m    317\u001b[0m run_manager\u001b[38;5;241m.\u001b[39mon_chain_end(outputs)\n\u001b[1;32m    318\u001b[0m final_outputs: Dict[\u001b[38;5;28mstr\u001b[39m, Any] \u001b[38;5;241m=\u001b[39m \u001b[38;5;28mself\u001b[39m\u001b[38;5;241m.\u001b[39mprep_outputs(\n\u001b[1;32m    319\u001b[0m     inputs, outputs, return_only_outputs\n\u001b[1;32m    320\u001b[0m )\n",
      "File \u001b[0;32m~/anaconda3/envs/tenx_week3/lib/python3.8/site-packages/langchain/chains/base.py:310\u001b[0m, in \u001b[0;36mChain.__call__\u001b[0;34m(self, inputs, return_only_outputs, callbacks, tags, metadata, run_name, include_run_info)\u001b[0m\n\u001b[1;32m    303\u001b[0m run_manager \u001b[38;5;241m=\u001b[39m callback_manager\u001b[38;5;241m.\u001b[39mon_chain_start(\n\u001b[1;32m    304\u001b[0m     dumpd(\u001b[38;5;28mself\u001b[39m),\n\u001b[1;32m    305\u001b[0m     inputs,\n\u001b[1;32m    306\u001b[0m     name\u001b[38;5;241m=\u001b[39mrun_name,\n\u001b[1;32m    307\u001b[0m )\n\u001b[1;32m    308\u001b[0m \u001b[38;5;28;01mtry\u001b[39;00m:\n\u001b[1;32m    309\u001b[0m     outputs \u001b[38;5;241m=\u001b[39m (\n\u001b[0;32m--> 310\u001b[0m         \u001b[38;5;28;43mself\u001b[39;49m\u001b[38;5;241;43m.\u001b[39;49m\u001b[43m_call\u001b[49m\u001b[43m(\u001b[49m\u001b[43minputs\u001b[49m\u001b[43m,\u001b[49m\u001b[43m \u001b[49m\u001b[43mrun_manager\u001b[49m\u001b[38;5;241;43m=\u001b[39;49m\u001b[43mrun_manager\u001b[49m\u001b[43m)\u001b[49m\n\u001b[1;32m    311\u001b[0m         \u001b[38;5;28;01mif\u001b[39;00m new_arg_supported\n\u001b[1;32m    312\u001b[0m         \u001b[38;5;28;01melse\u001b[39;00m \u001b[38;5;28mself\u001b[39m\u001b[38;5;241m.\u001b[39m_call(inputs)\n\u001b[1;32m    313\u001b[0m     )\n\u001b[1;32m    314\u001b[0m \u001b[38;5;28;01mexcept\u001b[39;00m \u001b[38;5;167;01mBaseException\u001b[39;00m \u001b[38;5;28;01mas\u001b[39;00m e:\n\u001b[1;32m    315\u001b[0m     run_manager\u001b[38;5;241m.\u001b[39mon_chain_error(e)\n",
      "File \u001b[0;32m~/anaconda3/envs/tenx_week3/lib/python3.8/site-packages/langchain/agents/agent.py:1312\u001b[0m, in \u001b[0;36mAgentExecutor._call\u001b[0;34m(self, inputs, run_manager)\u001b[0m\n\u001b[1;32m   1310\u001b[0m \u001b[38;5;66;03m# We now enter the agent loop (until it returns something).\u001b[39;00m\n\u001b[1;32m   1311\u001b[0m \u001b[38;5;28;01mwhile\u001b[39;00m \u001b[38;5;28mself\u001b[39m\u001b[38;5;241m.\u001b[39m_should_continue(iterations, time_elapsed):\n\u001b[0;32m-> 1312\u001b[0m     next_step_output \u001b[38;5;241m=\u001b[39m \u001b[38;5;28;43mself\u001b[39;49m\u001b[38;5;241;43m.\u001b[39;49m\u001b[43m_take_next_step\u001b[49m\u001b[43m(\u001b[49m\n\u001b[1;32m   1313\u001b[0m \u001b[43m        \u001b[49m\u001b[43mname_to_tool_map\u001b[49m\u001b[43m,\u001b[49m\n\u001b[1;32m   1314\u001b[0m \u001b[43m        \u001b[49m\u001b[43mcolor_mapping\u001b[49m\u001b[43m,\u001b[49m\n\u001b[1;32m   1315\u001b[0m \u001b[43m        \u001b[49m\u001b[43minputs\u001b[49m\u001b[43m,\u001b[49m\n\u001b[1;32m   1316\u001b[0m \u001b[43m        \u001b[49m\u001b[43mintermediate_steps\u001b[49m\u001b[43m,\u001b[49m\n\u001b[1;32m   1317\u001b[0m \u001b[43m        \u001b[49m\u001b[43mrun_manager\u001b[49m\u001b[38;5;241;43m=\u001b[39;49m\u001b[43mrun_manager\u001b[49m\u001b[43m,\u001b[49m\n\u001b[1;32m   1318\u001b[0m \u001b[43m    \u001b[49m\u001b[43m)\u001b[49m\n\u001b[1;32m   1319\u001b[0m     \u001b[38;5;28;01mif\u001b[39;00m \u001b[38;5;28misinstance\u001b[39m(next_step_output, AgentFinish):\n\u001b[1;32m   1320\u001b[0m         \u001b[38;5;28;01mreturn\u001b[39;00m \u001b[38;5;28mself\u001b[39m\u001b[38;5;241m.\u001b[39m_return(\n\u001b[1;32m   1321\u001b[0m             next_step_output, intermediate_steps, run_manager\u001b[38;5;241m=\u001b[39mrun_manager\n\u001b[1;32m   1322\u001b[0m         )\n",
      "File \u001b[0;32m~/anaconda3/envs/tenx_week3/lib/python3.8/site-packages/langchain/agents/agent.py:1038\u001b[0m, in \u001b[0;36mAgentExecutor._take_next_step\u001b[0;34m(self, name_to_tool_map, color_mapping, inputs, intermediate_steps, run_manager)\u001b[0m\n\u001b[1;32m   1029\u001b[0m \u001b[38;5;28;01mdef\u001b[39;00m \u001b[38;5;21m_take_next_step\u001b[39m(\n\u001b[1;32m   1030\u001b[0m     \u001b[38;5;28mself\u001b[39m,\n\u001b[1;32m   1031\u001b[0m     name_to_tool_map: Dict[\u001b[38;5;28mstr\u001b[39m, BaseTool],\n\u001b[0;32m   (...)\u001b[0m\n\u001b[1;32m   1035\u001b[0m     run_manager: Optional[CallbackManagerForChainRun] \u001b[38;5;241m=\u001b[39m \u001b[38;5;28;01mNone\u001b[39;00m,\n\u001b[1;32m   1036\u001b[0m ) \u001b[38;5;241m-\u001b[39m\u001b[38;5;241m>\u001b[39m Union[AgentFinish, List[Tuple[AgentAction, \u001b[38;5;28mstr\u001b[39m]]]:\n\u001b[1;32m   1037\u001b[0m     \u001b[38;5;28;01mreturn\u001b[39;00m \u001b[38;5;28mself\u001b[39m\u001b[38;5;241m.\u001b[39m_consume_next_step(\n\u001b[0;32m-> 1038\u001b[0m         [\n\u001b[1;32m   1039\u001b[0m             a\n\u001b[1;32m   1040\u001b[0m             \u001b[38;5;28;01mfor\u001b[39;00m a \u001b[38;5;129;01min\u001b[39;00m \u001b[38;5;28mself\u001b[39m\u001b[38;5;241m.\u001b[39m_iter_next_step(\n\u001b[1;32m   1041\u001b[0m                 name_to_tool_map,\n\u001b[1;32m   1042\u001b[0m                 color_mapping,\n\u001b[1;32m   1043\u001b[0m                 inputs,\n\u001b[1;32m   1044\u001b[0m                 intermediate_steps,\n\u001b[1;32m   1045\u001b[0m                 run_manager,\n\u001b[1;32m   1046\u001b[0m             )\n\u001b[1;32m   1047\u001b[0m         ]\n\u001b[1;32m   1048\u001b[0m     )\n",
      "File \u001b[0;32m~/anaconda3/envs/tenx_week3/lib/python3.8/site-packages/langchain/agents/agent.py:1038\u001b[0m, in \u001b[0;36m<listcomp>\u001b[0;34m(.0)\u001b[0m\n\u001b[1;32m   1029\u001b[0m \u001b[38;5;28;01mdef\u001b[39;00m \u001b[38;5;21m_take_next_step\u001b[39m(\n\u001b[1;32m   1030\u001b[0m     \u001b[38;5;28mself\u001b[39m,\n\u001b[1;32m   1031\u001b[0m     name_to_tool_map: Dict[\u001b[38;5;28mstr\u001b[39m, BaseTool],\n\u001b[0;32m   (...)\u001b[0m\n\u001b[1;32m   1035\u001b[0m     run_manager: Optional[CallbackManagerForChainRun] \u001b[38;5;241m=\u001b[39m \u001b[38;5;28;01mNone\u001b[39;00m,\n\u001b[1;32m   1036\u001b[0m ) \u001b[38;5;241m-\u001b[39m\u001b[38;5;241m>\u001b[39m Union[AgentFinish, List[Tuple[AgentAction, \u001b[38;5;28mstr\u001b[39m]]]:\n\u001b[1;32m   1037\u001b[0m     \u001b[38;5;28;01mreturn\u001b[39;00m \u001b[38;5;28mself\u001b[39m\u001b[38;5;241m.\u001b[39m_consume_next_step(\n\u001b[0;32m-> 1038\u001b[0m         [\n\u001b[1;32m   1039\u001b[0m             a\n\u001b[1;32m   1040\u001b[0m             \u001b[38;5;28;01mfor\u001b[39;00m a \u001b[38;5;129;01min\u001b[39;00m \u001b[38;5;28mself\u001b[39m\u001b[38;5;241m.\u001b[39m_iter_next_step(\n\u001b[1;32m   1041\u001b[0m                 name_to_tool_map,\n\u001b[1;32m   1042\u001b[0m                 color_mapping,\n\u001b[1;32m   1043\u001b[0m                 inputs,\n\u001b[1;32m   1044\u001b[0m                 intermediate_steps,\n\u001b[1;32m   1045\u001b[0m                 run_manager,\n\u001b[1;32m   1046\u001b[0m             )\n\u001b[1;32m   1047\u001b[0m         ]\n\u001b[1;32m   1048\u001b[0m     )\n",
      "File \u001b[0;32m~/anaconda3/envs/tenx_week3/lib/python3.8/site-packages/langchain/agents/agent.py:1134\u001b[0m, in \u001b[0;36mAgentExecutor._iter_next_step\u001b[0;34m(self, name_to_tool_map, color_mapping, inputs, intermediate_steps, run_manager)\u001b[0m\n\u001b[1;32m   1132\u001b[0m         tool_run_kwargs[\u001b[38;5;124m\"\u001b[39m\u001b[38;5;124mllm_prefix\u001b[39m\u001b[38;5;124m\"\u001b[39m] \u001b[38;5;241m=\u001b[39m \u001b[38;5;124m\"\u001b[39m\u001b[38;5;124m\"\u001b[39m\n\u001b[1;32m   1133\u001b[0m     \u001b[38;5;66;03m# We then call the tool on the tool input to get an observation\u001b[39;00m\n\u001b[0;32m-> 1134\u001b[0m     observation \u001b[38;5;241m=\u001b[39m \u001b[43mtool\u001b[49m\u001b[38;5;241;43m.\u001b[39;49m\u001b[43mrun\u001b[49m\u001b[43m(\u001b[49m\n\u001b[1;32m   1135\u001b[0m \u001b[43m        \u001b[49m\u001b[43magent_action\u001b[49m\u001b[38;5;241;43m.\u001b[39;49m\u001b[43mtool_input\u001b[49m\u001b[43m,\u001b[49m\n\u001b[1;32m   1136\u001b[0m \u001b[43m        \u001b[49m\u001b[43mverbose\u001b[49m\u001b[38;5;241;43m=\u001b[39;49m\u001b[38;5;28;43mself\u001b[39;49m\u001b[38;5;241;43m.\u001b[39;49m\u001b[43mverbose\u001b[49m\u001b[43m,\u001b[49m\n\u001b[1;32m   1137\u001b[0m \u001b[43m        \u001b[49m\u001b[43mcolor\u001b[49m\u001b[38;5;241;43m=\u001b[39;49m\u001b[43mcolor\u001b[49m\u001b[43m,\u001b[49m\n\u001b[1;32m   1138\u001b[0m \u001b[43m        \u001b[49m\u001b[43mcallbacks\u001b[49m\u001b[38;5;241;43m=\u001b[39;49m\u001b[43mrun_manager\u001b[49m\u001b[38;5;241;43m.\u001b[39;49m\u001b[43mget_child\u001b[49m\u001b[43m(\u001b[49m\u001b[43m)\u001b[49m\u001b[43m \u001b[49m\u001b[38;5;28;43;01mif\u001b[39;49;00m\u001b[43m \u001b[49m\u001b[43mrun_manager\u001b[49m\u001b[43m \u001b[49m\u001b[38;5;28;43;01melse\u001b[39;49;00m\u001b[43m \u001b[49m\u001b[38;5;28;43;01mNone\u001b[39;49;00m\u001b[43m,\u001b[49m\n\u001b[1;32m   1139\u001b[0m \u001b[43m        \u001b[49m\u001b[38;5;241;43m*\u001b[39;49m\u001b[38;5;241;43m*\u001b[39;49m\u001b[43mtool_run_kwargs\u001b[49m\u001b[43m,\u001b[49m\n\u001b[1;32m   1140\u001b[0m \u001b[43m    \u001b[49m\u001b[43m)\u001b[49m\n\u001b[1;32m   1141\u001b[0m \u001b[38;5;28;01melse\u001b[39;00m:\n\u001b[1;32m   1142\u001b[0m     tool_run_kwargs \u001b[38;5;241m=\u001b[39m \u001b[38;5;28mself\u001b[39m\u001b[38;5;241m.\u001b[39magent\u001b[38;5;241m.\u001b[39mtool_run_logging_kwargs()\n",
      "File \u001b[0;32m~/anaconda3/envs/tenx_week3/lib/python3.8/site-packages/langchain_core/tools.py:365\u001b[0m, in \u001b[0;36mBaseTool.run\u001b[0;34m(self, tool_input, verbose, start_color, color, callbacks, tags, metadata, run_name, **kwargs)\u001b[0m\n\u001b[1;32m    363\u001b[0m \u001b[38;5;28;01mexcept\u001b[39;00m (\u001b[38;5;167;01mException\u001b[39;00m, \u001b[38;5;167;01mKeyboardInterrupt\u001b[39;00m) \u001b[38;5;28;01mas\u001b[39;00m e:\n\u001b[1;32m    364\u001b[0m     run_manager\u001b[38;5;241m.\u001b[39mon_tool_error(e)\n\u001b[0;32m--> 365\u001b[0m     \u001b[38;5;28;01mraise\u001b[39;00m e\n\u001b[1;32m    366\u001b[0m \u001b[38;5;28;01melse\u001b[39;00m:\n\u001b[1;32m    367\u001b[0m     run_manager\u001b[38;5;241m.\u001b[39mon_tool_end(\n\u001b[1;32m    368\u001b[0m         \u001b[38;5;28mstr\u001b[39m(observation), color\u001b[38;5;241m=\u001b[39mcolor, name\u001b[38;5;241m=\u001b[39m\u001b[38;5;28mself\u001b[39m\u001b[38;5;241m.\u001b[39mname, \u001b[38;5;241m*\u001b[39m\u001b[38;5;241m*\u001b[39mkwargs\n\u001b[1;32m    369\u001b[0m     )\n",
      "File \u001b[0;32m~/anaconda3/envs/tenx_week3/lib/python3.8/site-packages/langchain_core/tools.py:337\u001b[0m, in \u001b[0;36mBaseTool.run\u001b[0;34m(self, tool_input, verbose, start_color, color, callbacks, tags, metadata, run_name, **kwargs)\u001b[0m\n\u001b[1;32m    334\u001b[0m \u001b[38;5;28;01mtry\u001b[39;00m:\n\u001b[1;32m    335\u001b[0m     tool_args, tool_kwargs \u001b[38;5;241m=\u001b[39m \u001b[38;5;28mself\u001b[39m\u001b[38;5;241m.\u001b[39m_to_args_and_kwargs(parsed_input)\n\u001b[1;32m    336\u001b[0m     observation \u001b[38;5;241m=\u001b[39m (\n\u001b[0;32m--> 337\u001b[0m         \u001b[38;5;28;43mself\u001b[39;49m\u001b[38;5;241;43m.\u001b[39;49m\u001b[43m_run\u001b[49m\u001b[43m(\u001b[49m\u001b[38;5;241;43m*\u001b[39;49m\u001b[43mtool_args\u001b[49m\u001b[43m,\u001b[49m\u001b[43m \u001b[49m\u001b[43mrun_manager\u001b[49m\u001b[38;5;241;43m=\u001b[39;49m\u001b[43mrun_manager\u001b[49m\u001b[43m,\u001b[49m\u001b[43m \u001b[49m\u001b[38;5;241;43m*\u001b[39;49m\u001b[38;5;241;43m*\u001b[39;49m\u001b[43mtool_kwargs\u001b[49m\u001b[43m)\u001b[49m\n\u001b[1;32m    338\u001b[0m         \u001b[38;5;28;01mif\u001b[39;00m new_arg_supported\n\u001b[1;32m    339\u001b[0m         \u001b[38;5;28;01melse\u001b[39;00m \u001b[38;5;28mself\u001b[39m\u001b[38;5;241m.\u001b[39m_run(\u001b[38;5;241m*\u001b[39mtool_args, \u001b[38;5;241m*\u001b[39m\u001b[38;5;241m*\u001b[39mtool_kwargs)\n\u001b[1;32m    340\u001b[0m     )\n\u001b[1;32m    341\u001b[0m \u001b[38;5;28;01mexcept\u001b[39;00m ToolException \u001b[38;5;28;01mas\u001b[39;00m e:\n\u001b[1;32m    342\u001b[0m     \u001b[38;5;28;01mif\u001b[39;00m \u001b[38;5;129;01mnot\u001b[39;00m \u001b[38;5;28mself\u001b[39m\u001b[38;5;241m.\u001b[39mhandle_tool_error:\n",
      "File \u001b[0;32m~/anaconda3/envs/tenx_week3/lib/python3.8/site-packages/langchain_core/tools.py:631\u001b[0m, in \u001b[0;36mStructuredTool._run\u001b[0;34m(self, run_manager, *args, **kwargs)\u001b[0m\n\u001b[1;32m    622\u001b[0m \u001b[38;5;28;01mif\u001b[39;00m \u001b[38;5;28mself\u001b[39m\u001b[38;5;241m.\u001b[39mfunc:\n\u001b[1;32m    623\u001b[0m     new_argument_supported \u001b[38;5;241m=\u001b[39m signature(\u001b[38;5;28mself\u001b[39m\u001b[38;5;241m.\u001b[39mfunc)\u001b[38;5;241m.\u001b[39mparameters\u001b[38;5;241m.\u001b[39mget(\u001b[38;5;124m\"\u001b[39m\u001b[38;5;124mcallbacks\u001b[39m\u001b[38;5;124m\"\u001b[39m)\n\u001b[1;32m    624\u001b[0m     \u001b[38;5;28;01mreturn\u001b[39;00m (\n\u001b[1;32m    625\u001b[0m         \u001b[38;5;28mself\u001b[39m\u001b[38;5;241m.\u001b[39mfunc(\n\u001b[1;32m    626\u001b[0m             \u001b[38;5;241m*\u001b[39margs,\n\u001b[1;32m    627\u001b[0m             callbacks\u001b[38;5;241m=\u001b[39mrun_manager\u001b[38;5;241m.\u001b[39mget_child() \u001b[38;5;28;01mif\u001b[39;00m run_manager \u001b[38;5;28;01melse\u001b[39;00m \u001b[38;5;28;01mNone\u001b[39;00m,\n\u001b[1;32m    628\u001b[0m             \u001b[38;5;241m*\u001b[39m\u001b[38;5;241m*\u001b[39mkwargs,\n\u001b[1;32m    629\u001b[0m         )\n\u001b[1;32m    630\u001b[0m         \u001b[38;5;28;01mif\u001b[39;00m new_argument_supported\n\u001b[0;32m--> 631\u001b[0m         \u001b[38;5;28;01melse\u001b[39;00m \u001b[38;5;28;43mself\u001b[39;49m\u001b[38;5;241;43m.\u001b[39;49m\u001b[43mfunc\u001b[49m\u001b[43m(\u001b[49m\u001b[38;5;241;43m*\u001b[39;49m\u001b[43margs\u001b[49m\u001b[43m,\u001b[49m\u001b[43m \u001b[49m\u001b[38;5;241;43m*\u001b[39;49m\u001b[38;5;241;43m*\u001b[39;49m\u001b[43mkwargs\u001b[49m\u001b[43m)\u001b[49m\n\u001b[1;32m    632\u001b[0m     )\n\u001b[1;32m    633\u001b[0m \u001b[38;5;28;01mraise\u001b[39;00m \u001b[38;5;167;01mNotImplementedError\u001b[39;00m(\u001b[38;5;124m\"\u001b[39m\u001b[38;5;124mTool does not support sync\u001b[39m\u001b[38;5;124m\"\u001b[39m)\n",
      "Input \u001b[0;32mIn [40]\u001b[0m, in \u001b[0;36mexecute_sql\u001b[0;34m(query)\u001b[0m\n\u001b[1;32m      7\u001b[0m \u001b[38;5;129m@tool\u001b[39m\n\u001b[1;32m      8\u001b[0m \u001b[38;5;28;01mdef\u001b[39;00m \u001b[38;5;21mexecute_sql\u001b[39m(query: \u001b[38;5;28mstr\u001b[39m) \u001b[38;5;241m-\u001b[39m\u001b[38;5;241m>\u001b[39m Tuple[List[Tuple], List[Tuple]]:\n\u001b[1;32m      9\u001b[0m \u001b[38;5;250m    \u001b[39m\u001b[38;5;124;03m\"\"\"Returns the result of SQL query execution and cursor description\"\"\"\u001b[39;00m\n\u001b[0;32m---> 10\u001b[0m     \u001b[38;5;28;01mreturn\u001b[39;00m \u001b[43mget_postgres_data\u001b[49m\u001b[43m(\u001b[49m\u001b[43mquery\u001b[49m\u001b[43m)\u001b[49m\n",
      "Input \u001b[0;32mIn [39]\u001b[0m, in \u001b[0;36mget_postgres_data\u001b[0;34m(query)\u001b[0m\n\u001b[1;32m     19\u001b[0m cursor \u001b[38;5;241m=\u001b[39m conn\u001b[38;5;241m.\u001b[39mcursor()\n\u001b[1;32m     21\u001b[0m \u001b[38;5;28;01mtry\u001b[39;00m:\n\u001b[1;32m     22\u001b[0m     \u001b[38;5;66;03m# Execute the SQL query\u001b[39;00m\n\u001b[0;32m---> 23\u001b[0m     \u001b[43mcursor\u001b[49m\u001b[38;5;241;43m.\u001b[39;49m\u001b[43mexecute\u001b[49m\u001b[43m(\u001b[49m\u001b[43mquery\u001b[49m\u001b[43m)\u001b[49m\n\u001b[1;32m     25\u001b[0m     \u001b[38;5;66;03m# Fetch all the results\u001b[39;00m\n\u001b[1;32m     26\u001b[0m     results \u001b[38;5;241m=\u001b[39m cursor\u001b[38;5;241m.\u001b[39mfetchall()\n",
      "\u001b[0;31mGroupingError\u001b[0m: column \"device_type_table_data.Device type\" must appear in the GROUP BY clause or be used in an aggregate function\nLINE 1: SELECT \"Device type\", MAX(\"Average view duration\") AS \"Max A...\n               ^\n"
     ]
    }
   ],
   "source": [
    "from langchain.agents import AgentExecutor\n",
    "\n",
    "analyst_agent_executor = AgentExecutor(\n",
    "    agent=analyst_agent, \n",
    "    tools=[execute_sql, get_table_columns, get_table_column_distr], \n",
    "    verbose=True,\n",
    "    max_iterations=10, # early stopping criteria\n",
    "    early_stopping_method='generate', \n",
    "    # to ask model to generate the final answer after stopping\n",
    ")\n",
    "\n",
    "response = analyst_agent_executor.invoke(\n",
    "  {\"question\": \"what is the Device type having the highest Average view duration?\"}\n",
    ")"
   ]
  },
  {
   "cell_type": "code",
   "execution_count": 27,
   "metadata": {},
   "outputs": [
    {
     "data": {
      "text/plain": [
       "'The device type with the highest average view duration is \"Computer\".'"
      ]
     },
     "execution_count": 27,
     "metadata": {},
     "output_type": "execute_result"
    }
   ],
   "source": [
    "response[\"output\"]"
   ]
  },
  {
   "cell_type": "code",
   "execution_count": 61,
   "metadata": {},
   "outputs": [],
   "source": [
    "from langchain.agents import AgentType, Tool, initialize_agent\n",
    "from langchain.schema import SystemMessage\n",
    "\n",
    "agent_kwargs = {\n",
    "    \"system_message\": SystemMessage(content=system_message)\n",
    "}\n",
    "\n",
    "analyst_agent_openai = initialize_agent(\n",
    "    llm=ChatOpenAI(temperature=0.1, model = 'gpt-4-1106-preview'),\n",
    "    agent=AgentType.OPENAI_FUNCTIONS, \n",
    "    tools=[execute_sql, get_table_columns, get_table_column_distr], \n",
    "    agent_kwargs=agent_kwargs,\n",
    "    verbose=True,\n",
    "    max_iterations=20,\n",
    "    early_stopping_method='generate'\n",
    ")"
   ]
  },
  {
   "cell_type": "code",
   "execution_count": 62,
   "metadata": {},
   "outputs": [
    {
     "data": {
      "text/plain": [
       "{'title': 'ChainInput',\n",
       " 'type': 'object',\n",
       " 'properties': {'input': {'title': 'Input'}}}"
      ]
     },
     "execution_count": 62,
     "metadata": {},
     "output_type": "execute_result"
    }
   ],
   "source": [
    "analyst_agent_openai.get_input_schema().schema()"
   ]
  },
  {
   "cell_type": "code",
   "execution_count": 63,
   "metadata": {},
   "outputs": [
    {
     "data": {
      "text/plain": [
       "{'title': 'ChainOutput',\n",
       " 'type': 'object',\n",
       " 'properties': {'output': {'title': 'Output'}}}"
      ]
     },
     "execution_count": 63,
     "metadata": {},
     "output_type": "execute_result"
    }
   ],
   "source": [
    "analyst_agent_openai.get_output_schema().schema()"
   ]
  },
  {
   "cell_type": "code",
   "execution_count": 65,
   "metadata": {},
   "outputs": [
    {
     "name": "stdout",
     "output_type": "stream",
     "text": [
      "\n",
      "\n",
      "\u001b[1m> Entering new AgentExecutor chain...\u001b[0m\n",
      "\u001b[32;1m\u001b[1;3m\n",
      "Invoking: `execute_sql` with `{'query': 'SELECT \"Device type\", \"Average view duration\" FROM device_type_table_data ORDER BY \"Average view duration\" DESC LIMIT 1'}`\n",
      "\n",
      "\n",
      "\u001b[0m\u001b[36;1m\u001b[1;3m([('Computer', '0:05:19')], (Column(name='Device type', type_code=25), Column(name='Average view duration', type_code=25)))\u001b[0m\u001b[32;1m\u001b[1;3mThe device type with the highest average view duration is \"Computer\" with an average view duration of 0 hours, 5 minutes, and 19 seconds.\u001b[0m\n",
      "\n",
      "\u001b[1m> Finished chain.\u001b[0m\n"
     ]
    },
    {
     "data": {
      "text/plain": [
       "'The device type with the highest average view duration is \"Computer\" with an average view duration of 0 hours, 5 minutes, and 19 seconds.'"
      ]
     },
     "execution_count": 65,
     "metadata": {},
     "output_type": "execute_result"
    }
   ],
   "source": [
    "analyst_agent_openai.run(\"what is the Device type having the highest Average view duration?\")"
   ]
  }
 ],
 "metadata": {
  "kernelspec": {
   "display_name": "tenx_week3",
   "language": "python",
   "name": "python3"
  },
  "language_info": {
   "codemirror_mode": {
    "name": "ipython",
    "version": 3
   },
   "file_extension": ".py",
   "mimetype": "text/x-python",
   "name": "python",
   "nbconvert_exporter": "python",
   "pygments_lexer": "ipython3",
   "version": "3.8.18"
  }
 },
 "nbformat": 4,
 "nbformat_minor": 2
}
