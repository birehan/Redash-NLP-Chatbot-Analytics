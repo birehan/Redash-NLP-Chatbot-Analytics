{
 "cells": [
  {
   "cell_type": "code",
   "execution_count": 2,
   "metadata": {},
   "outputs": [
    {
     "name": "stdout",
     "output_type": "stream",
     "text": [
      "\n",
      "\n",
      "\u001b[1m> Entering new AgentExecutor chain...\u001b[0m\n",
      "\u001b[32;1m\u001b[1;3m\n",
      "Invoking: `get_table_columns` with `{'table': 'device_type_table_data'}`\n",
      "\n",
      "\n",
      "\u001b[0m\u001b[33;1m\u001b[1;3m[{'column_name': 'Device type', 'data_type': 'text'}, {'column_name': 'Views', 'data_type': 'bigint'}, {'column_name': 'Watch time (hours)', 'data_type': 'double precision'}, {'column_name': 'Average view duration', 'data_type': 'text'}]\u001b[0m\u001b[32;1m\u001b[1;3m\n",
      "Invoking: `execute_sql` with `{'query': 'SELECT \"Device type\", MAX(\"Average view duration\") AS \"Max Average View Duration\" FROM device_type_table_data GROUP BY \"Device type\" ORDER BY \"Max Average View Duration\" DESC LIMIT 1'}`\n",
      "\n",
      "\n",
      "\u001b[0m\u001b[36;1m\u001b[1;3m([('Computer', '0:05:19')], (Column(name='Device type', type_code=25), Column(name='Max Average View Duration', type_code=25)))\u001b[0m\u001b[32;1m\u001b[1;3mThe device type with the highest average view duration is \"Computer,\" with an average view duration of 0 hours, 5 minutes, and 19 seconds.\u001b[0m\n",
      "\n",
      "\u001b[1m> Finished chain.\u001b[0m\n",
      "response:  The device type with the highest average view duration is \"Computer,\" with an average view duration of 0 hours, 5 minutes, and 19 seconds.\n"
     ]
    }
   ],
   "source": [
    "from exectuors import get_agent_executor\n",
    "\n",
    "analyst_agent_openai = get_agent_executor()\n",
    "\n",
    "\n",
    "response = analyst_agent_openai.run(\"what is the Device type having the highest Average view duration?\")\n",
    "\n",
    "print(\"response: \", response)\n"
   ]
  }
 ],
 "metadata": {
  "kernelspec": {
   "display_name": "tenx_week3",
   "language": "python",
   "name": "python3"
  },
  "language_info": {
   "codemirror_mode": {
    "name": "ipython",
    "version": 3
   },
   "file_extension": ".py",
   "mimetype": "text/x-python",
   "name": "python",
   "nbconvert_exporter": "python",
   "pygments_lexer": "ipython3",
   "version": "3.8.18"
  }
 },
 "nbformat": 4,
 "nbformat_minor": 2
}
