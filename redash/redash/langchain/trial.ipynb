{
 "cells": [
  {
   "cell_type": "code",
   "execution_count": 3,
   "metadata": {},
   "outputs": [
    {
     "name": "stdout",
     "output_type": "stream",
     "text": [
      "\n",
      "\n",
      "\u001b[1m> Entering new AgentExecutor chain...\u001b[0m\n",
      "\u001b[32;1m\u001b[1;3m\n",
      "Invoking: `get_table_column_distr` with `{'table': 'device_type_table_data', 'column': 'average_view_duration', 'n': 1}`\n",
      "\n",
      "\n",
      "\u001b[0maverage_view_duration\n",
      "\u001b[38;5;200m\u001b[1;3m['0:05:19']\u001b[0m\u001b[32;1m\u001b[1;3m\n",
      "Invoking: `execute_sql` with `{'query': \"SELECT device_type FROM device_type_table_data WHERE average_view_duration = '0:05:19'\"}`\n",
      "\n",
      "\n",
      "\u001b[0m\u001b[36;1m\u001b[1;3m([('Computer',)], (Column(name='device_type', type_code=25),))\u001b[0m\u001b[32;1m\u001b[1;3mThe device type with the highest average view duration is \"Computer\".\u001b[0m\n",
      "\n",
      "\u001b[1m> Finished chain.\u001b[0m\n",
      "answer:  The device type with the highest average view duration is \"Computer\".\n"
     ]
    }
   ],
   "source": [
    "from exectuors import get_agent_executor\n",
    "\n",
    "analyst_agent_executor = get_agent_executor()\n",
    "\n",
    "response = analyst_agent_executor.invoke(\n",
    "  {\"question\": \"what is the Device type having the highest Average view duration?\"}\n",
    ")\n",
    "\n",
    "print(\"answer: \", response[\"output\"])\n"
   ]
  },
  {
   "cell_type": "code",
   "execution_count": null,
   "metadata": {},
   "outputs": [],
   "source": []
  }
 ],
 "metadata": {
  "kernelspec": {
   "display_name": "tenx_week3",
   "language": "python",
   "name": "python3"
  },
  "language_info": {
   "codemirror_mode": {
    "name": "ipython",
    "version": 3
   },
   "file_extension": ".py",
   "mimetype": "text/x-python",
   "name": "python",
   "nbconvert_exporter": "python",
   "pygments_lexer": "ipython3",
   "version": "3.8.18"
  }
 },
 "nbformat": 4,
 "nbformat_minor": 2
}
